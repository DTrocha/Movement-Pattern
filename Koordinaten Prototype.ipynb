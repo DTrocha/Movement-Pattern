{
 "cells": [
  {
   "cell_type": "code",
   "execution_count": 175,
   "metadata": {},
   "outputs": [
    {
     "name": "stdout",
     "output_type": "stream",
     "text": [
      "Sehenswürdigkeit: Landgraf-Philipp-Straße 3, 35037 Marburg\n",
      "3\n",
      "Fitness Studio: Willy-Mock-Straße 2, 35037 Marburg\n",
      "3\n",
      "Uni : Karl-von-Frisch-Straße 1, 35043 Marburg\n",
      "4\n",
      "Arbeit: Willy-Mock-Straße 2, 35037 Marburg\n",
      "8\n",
      "Fitness Studio: Willy-Mock-Straße 2, 35037 Marburg\n",
      "3\n",
      "Restaurant: Lingelgasse 13 A, 35037 Marburg\n",
      "3\n",
      "Heute war ich 24 Stunden beschäftigt :)\n"
     ]
    }
   ],
   "source": [
    "#Hier steht der Code für den Prototyp Algorithmus \n",
    "import random\n",
    "\n",
    "Test = [] \n",
    "Zufall = []\n",
    "Arbeit = []\n",
    "Try = []\n",
    "counter = 0 \n",
    "\n",
    "with open (\"DB.csv\",\"r\") as file:\n",
    "    while counter < 24:\n",
    "        for line in file: \n",
    "            data = line.strip().split(\";\")\n",
    "            if data[2] == \"Zeiteinheiten\":\n",
    "                continue            \n",
    "            Arbeit.append(data)\n",
    "            Test = [Arbeit]\n",
    "\n",
    "            \n",
    "        for part in Test:\n",
    "            z = random.randint(0,len(part)-1)\n",
    "            #print(part[z])\n",
    "#Sicherstellen das Arbeit nur einmal pro Tag abgearbeitet wird\n",
    "            if part[z][0] == \"Arbeit\" and \"Arbeit\" in Zufall:  \n",
    "                continue\n",
    "#Kontrolle das der Counter nicht über 24 kann\n",
    "            if counter == 17 and part[z][2] == \"8\":\n",
    "                continue\n",
    "            elif counter == 18 and int(part[z][2]) >= 7:\n",
    "                continue\n",
    "            elif counter == 19 and int(part[z][2]) >= 6:\n",
    "                continue\n",
    "            elif counter == 20 and int(part[z][2]) >= 5:\n",
    "                continue\n",
    "            elif counter == 21 and int(part[z][2]) >= 4:\n",
    "                continue\n",
    "            elif counter == 22 and int(part[z][2]) >= 3:\n",
    "                continue\n",
    "            elif counter == 23 and int(part[z][2]) >= 2:\n",
    "                continue\n",
    "            #Zufall.append(part[z])\n",
    "            Zufall = Zufall + part[z]\n",
    "            Try.append(part[z])\n",
    "            #Ausgabenkontrolle. Hier würde im echten Code dann der Output code sein\n",
    "            print(Try[0][0] + \": \" + Try[0][3])\n",
    "            print(Try[0][2])\n",
    "        if Try != []:\n",
    "            counter = counter + int(Try[0][2]) \n",
    "            Try.pop()\n",
    "            \n",
    "print(\"Heute war ich \" + str(counter) + \" Stunden beschäftigt :)\")\n",
    "#print(Zufall)\n"
   ]
  },
  {
   "cell_type": "code",
   "execution_count": 93,
   "metadata": {},
   "outputs": [
    {
     "name": "stdout",
     "output_type": "stream",
     "text": [
      "24\n"
     ]
    }
   ],
   "source": [
    "#Test für Zähler\n",
    "counter24 = 0\n",
    "\n",
    "for part in Zufall:\n",
    "    counter24 = counter24 + int((part[2]))\n",
    "\n",
    "print(counter24)\n"
   ]
  },
  {
   "cell_type": "code",
   "execution_count": 40,
   "metadata": {},
   "outputs": [
    {
     "name": "stdout",
     "output_type": "stream",
     "text": [
      "['Fitness Studio', 'Lotus Yoga ', '1', 'Neue Kasseler Str. 7A, 35039 Marburg']\n",
      "['Arbeit', 'Tokyo Sushi', '8', 'Elisabethstraße 14, 35037 Marburg']\n",
      "['Arbeit', 'Molly Malone', '8', 'Wehrdaer Weg 16A, 35037 Marburg']\n",
      "['Fitness Studio', 'Arbeit', 'Arbeit']\n",
      "Ich war heute: 17 Stunden beschäftigt\n"
     ]
    }
   ],
   "source": [
    "#Test für Wiedergabe der Daten\n",
    "Out = []\n",
    "for line in Zufall:\n",
    "    print(line)\n",
    "    Out.append(line[0])\n",
    "print(Out)\n",
    "print(\"Ich war heute: \" + str(counter24) + \" Stunden beschäftigt\")"
   ]
  },
  {
   "cell_type": "code",
   "execution_count": 50,
   "metadata": {},
   "outputs": [
    {
     "name": "stdout",
     "output_type": "stream",
     "text": [
      "['Bar', 'Molly Malone', '4', 'Wehrdaer Weg 16A, 35037 Marburg']\n",
      "4\n",
      "['Shaky Shake', 'Pfeffer und Salz', 'Curry Haus', 'Molly Malone', 'Elisabethstraße 14, 35037 Marburg', 'Chevy', 'Karin Winkler', 'Biegenstraße 35, 35037 Marburg', 'Healthy Hairclub', 'Barfüßerstraße 29, 35037 Marburg', 'Neue Kasseler Str. 7A, 35039 Marburg', '2', 'Willy-Mock-Straße 2, 35037 Marburg', '4', 'Biegenstraße 8, 35037 Marburg', 'Steinweg 44, 35037 Marburg', '5', 'Bar', '2', 'Shaky Shake', '8', 'Ketzerbach 9, 35037 Marburg', '8', 'Arbeit', 'Cappeler Str. 3, 35039 Marburg', 'Schützenstraße 30, 35039 Marburg', 'Biegenstraße 35, 35037 Marburg', 'Zwischenhausen 6, 35037 Marburg', 'Barfüßerstraße 29, 35037 Marburg', '8', 'AC 1888 Marburg e.V. - Kraftsportzentrum', 'Arbeit', 'Cineplex Marburg', 'Capitol', 'Arbeit', 'Arbeit', 'Am Grün 58, 35037 Marburg', '8', 'Biegenstraße 10, 35037 Marburg', 'Uni ', 'Jägerstraße 1, 35037 Marburg', 'Fachbereich Informatik & Mathe', 'Uni ', 'Uni ', '7', 'Bibliothek', '1', 'Sehenswürdigkeit', '1', '3', '3', 'Garten des Gedenkens', 'Lingelgasse 13 A, 35037 Marburg', 'Pfeffer und Salz', 'Ketzerbach 9, 35037 Marburg', 'Bar', '2', 'Restaurant', 'Schützenstraße 30, 35039 Marburg', 'Biegenstraße 35, 35037 Marburg', '2', '1', 'Lotus Yoga ', '2', '3', 'Biegenstraße 8, 35037 Marburg', 'Biegenstraße 8, 35037 Marburg', 'Sudhaus', '5', 'Bar', 'Bar', 'Arbeit', 'Pfeffer und Salz', '8', 'Arbeit', 'Elisabethstraße 14, 35037 Marburg', 'Arbeit', 'Arbeit', 'Biegenstraße 35, 35037 Marburg', 'Arbeit', 'Barfüßerstraße 29, 35037 Marburg', 'Neue Kasseler Str. 7A, 35039 Marburg', '8', 'Arbeit', 'Biegenstraße 8, 35037 Marburg', 'Biegenstraße 8, 35037 Marburg', 'Steinweg 44, 35037 Marburg', 'Hinkelstein', 'Am Grün 58, 35037 Marburg', '8', 'Biegenstraße 10, 35037 Marburg', 'Uni ', 'Jägerstraße 1, 35037 Marburg', 'Fachbereich Informatik & Mathe', '4', 'Fachbereich Pharmazie', '7', '3', 'Sehenswürdigkeit', 'Karl-von-Frisch-Str., 35032 Marburg', 'Kalbstor', 'Sehenswürdigkeit', '3', 'Universitätsstraße 13, 35037 Marburg', 'Shaky Shake', '4', 'Restaurant', 'Wehrdaer Weg 16A, 35037 Marburg', 'Tokyo Sushi', 'Restaurant', 'Frisör', 'Biegenstraße 35, 35037 Marburg', 'Healthy Hairclub', 'Barfüßerstraße 29, 35037 Marburg', 'Fitness Studio', '2', '3', 'Cineplex Marburg', '3', '4', 'Hinkelstein', '3', '2', 'Lingelgasse 13 A, 35037 Marburg', 'Frankfurter Str. 19, 35037 Marburg', 'Ketzerbach 9, 35037 Marburg', '8', '8', '8', 'Karin Winkler', 'Biegenstraße 35, 35037 Marburg', 'Zwischenhausen 6, 35037 Marburg', '8', '8', 'AC 1888 Marburg e.V. - Kraftsportzentrum', 'Move Sportwelt', 'Arbeit', 'Arbeit', '8', '8', '8', 'Arbeit', '4', 'Barfüßertor 2, 35037 Marburg', 'Jägerstraße 1, 35037 Marburg', 'Hans-Meerwein-Straße 1, 35043 Marburg', 'Fachbereich Biologie', 'Uni ', 'Wilhelm-Röpke-Straße 4, 35039 Marburg', '3', '1', 'Karl-von-Frisch-Str., 35032 Marburg', 'Sehenswürdigkeit', 'Landgraf-Philipp-Straße 3, 35037 Marburg', '35037 Marburg', 'Garten des Gedenkens', 'Restaurant', '4', '1', 'Molly Malone', '2', '2', '1', 'Raby´s Barbershop', 'Frisör', 'Barfüßerstraße 29, 35037 Marburg', 'Fitness Studio', 'Fitness Studio', '3', 'Kino', '3', 'Bar', 'Bar', 'Bar', 'Campus Bar', 'Arbeit', 'Pfeffer und Salz', 'Arbeit', '8', 'Arbeit', '8', 'Arbeit', 'Arbeit', 'Healthy Hairclub', 'Arbeit', 'Lotus Yoga ', '8', '8', 'Cineplex Marburg', 'Capitol', '8', 'Markt 18, 35037 Marburg', '8', '8', 'Biegenstraße 10, 35037 Marburg', 'Fachschaft Wirtschaftswissenschaften', '7', '9', 'Karl-von-Frisch-Straße 1, 35043 Marburg', '3', 'Wilhelm-Röpke-Straße 4, 35039 Marburg', '3', 'Hermann-Bauer-Weg 2, 35043 Marburg', '2', 'Kalbstor', 'Landgraf-Philipp-Straße 3, 35037 Marburg', '3', 'Universitätsstraße 13, 35037 Marburg', 'Restaurant', 'Restaurant', 'Curry Haus', 'Bar', 'Restaurant', '2', '1', '3', 'Healthy Hairclub', 'Frisör', 'Fitness Studio', 'AC 1888 Marburg e.V. - Kraftsportzentrum', 'Fitness Studio', 'Kino', 'Capitol', 'Steinweg 44, 35037 Marburg', 'Hinkelstein', '3', 'Campus Bar', '8', '8', 'Ketzerbach 9, 35037 Marburg', 'Molly Malone', 'Elisabethstraße 14, 35037 Marburg', 'Chevy', 'Schützenstraße 30, 35039 Marburg', 'Raby´s Barbershop', 'Arbeit', 'Dreamhair', 'Neue Kasseler Str. 7A, 35039 Marburg', 'Bei St. Jost 8, 35039 Marburg', 'Move Sportwelt', '8', 'Arbeit', '8', '8', 'Am Grün 58, 35037 Marburg', 'Campus Bar', '4', 'Barfüßertor 2, 35037 Marburg', 'Uni ', 'Uni ', 'Fachbereich Biologie', '3', '7', 'Ketzerbach 1, 35037 Marburg', 'Sehenswürdigkeit', 'Sehenswürdigkeit', 'Kalbstor', 'Grimm Dich Pfad', 'Sehenswürdigkeit', 'Sehenswürdigkeit', '3', 'Restaurant', 'Ketzerbach 9, 35037 Marburg', 'Bar', 'Restaurant', '2', 'Schützenstraße 30, 35039 Marburg', 'Raby´s Barbershop', 'Frisör', 'Frisör', 'Fitness Studio', '2', 'Move Sportwelt', 'Kino', 'Capitol', 'Bar', 'Bar', 'Am Grün 58, 35037 Marburg', 'Campus Bar', '8', 'Arbeit', 'Curry Haus', 'Wehrdaer Weg 16A, 35037 Marburg', 'Elisabethstraße 14, 35037 Marburg', 'Arbeit', 'Schützenstraße 30, 35039 Marburg', 'Biegenstraße 35, 35037 Marburg', '8', '8', 'Arbeit', 'AC 1888 Marburg e.V. - Kraftsportzentrum', 'Willy-Mock-Straße 2, 35037 Marburg', 'Biegenstraße 8, 35037 Marburg', 'Capitol', 'Steinweg 44, 35037 Marburg', 'Markt 18, 35037 Marburg', 'Am Grün 58, 35037 Marburg', 'Reitgasse 5, 35037 Marburg', '4', 'Fachschaft Wirtschaftswissenschaften', 'Jägerstraße 1, 35037 Marburg', 'Hans-Meerwein-Straße 1, 35043 Marburg', 'Uni ', 'Fachbereich Pharmazie', 'Universitätsbibliothek', '3', 'Hermann-Bauer-Weg 2, 35043 Marburg', 'Karl-von-Frisch-Str., 35032 Marburg', '1', 'Landgraf-Philipp-Straße 3, 35037 Marburg', '35037 Marburg', '1', '3', 'Restaurant', 'Restaurant', '4', 'Restaurant', '2', 'Frisör', '3', 'Frisör', 'Dreamhair', 'Lotus Yoga ', 'Fitness Studio', 'Move Sportwelt', 'Biegenstraße 8, 35037 Marburg', 'Kino', '4', '5', 'Havanna', 'Campus Bar', 'Shaky Shake', 'Arbeit', 'Curry Haus', 'Arbeit', '8', 'Arbeit', 'Arbeit', 'Raby´s Barbershop', '8', 'Arbeit', 'Lotus Yoga ', 'Arbeit', 'Arbeit', 'Biegenstraße 8, 35037 Marburg', 'Arbeit', 'Arbeit', 'Arbeit', 'Arbeit', 'Campus Bar', 'Philips Universität', 'Uni ', 'Psychologisches Institut', 'Hans-Meerwein-Straße 1, 35043 Marburg', 'Uni ', '3', 'Universitätsbibliothek', 'Stadtbücherei', '1', '2', 'Sybelstraße 17, 35037 Marburg', 'Landgraf-Philipp-Straße 3, 35037 Marburg', '3', 'Universitätsstraße 13, 35037 Marburg', 'Restaurant', 'Frankfurter Str. 19, 35037 Marburg', 'Restaurant', '4', 'Elisabethstraße 14, 35037 Marburg', 'Restaurant', 'Frisör', 'Raby´s Barbershop', 'Healthy Hairclub', 'Barfüßerstraße 29, 35037 Marburg', 'Neue Kasseler Str. 7A, 35039 Marburg', 'AC 1888 Marburg e.V. - Kraftsportzentrum', 'Move Sportwelt', 'Biegenstraße 8, 35037 Marburg', 'Kino', 'Sudhaus', 'Markt 18, 35037 Marburg', '3', 'Bar', 'Arbeit', '8', 'Curry Haus', 'Arbeit', 'Tokyo Sushi', 'Chevy', 'Arbeit', '8', 'Healthy Hairclub', 'Arbeit', 'Arbeit', 'Arbeit', 'Move Sportwelt', '8', 'Biegenstraße 8, 35037 Marburg', 'Arbeit', 'Arbeit', 'Am Grün 58, 35037 Marburg', 'Reitgasse 5, 35037 Marburg', 'Philips Universität', '6', 'Jägerstraße 1, 35037 Marburg', 'Fachbereich Informatik & Mathe', 'Uni ', 'Uni ', 'Bibliothek', 'Stadtbücherei', 'Hermann-Bauer-Weg 2, 35043 Marburg', 'Sehenswürdigkeit', 'Kalbstor', 'Landgraf-Philipp-Straße 3, 35037 Marburg', 'Landgrafenschloss', 'Garten des Gedenkens', 'Lingelgasse 13 A, 35037 Marburg', 'Restaurant', 'Ketzerbach 9, 35037 Marburg', 'Bar', '2', 'Restaurant', '1', 'Raby´s Barbershop', 'Zwischenhausen 6, 35037 Marburg', 'Barfüßerstraße 29, 35037 Marburg', 'Neue Kasseler Str. 7A, 35039 Marburg', 'AC 1888 Marburg e.V. - Kraftsportzentrum', 'Move Sportwelt', 'Biegenstraße 8, 35037 Marburg', 'Kino', '4', 'Bar', 'Am Grün 58, 35037 Marburg', 'Reitgasse 5, 35037 Marburg', 'Lingelgasse 13 A, 35037 Marburg', 'Frankfurter Str. 19, 35037 Marburg', '8', '8', 'Elisabethstraße 14, 35037 Marburg', '8', 'Karin Winkler', '8', 'Zwischenhausen 6, 35037 Marburg', 'Dreamhair', 'Lotus Yoga ', '8', 'Move Sportwelt', 'Biegenstraße 8, 35037 Marburg', 'Arbeit', 'Arbeit', '8', 'Arbeit', '8', 'Philips Universität', 'Uni ', '7', 'Fachbereich Informatik & Mathe', 'Fachbereich Biologie', 'Fachbereich Pharmazie', 'Wilhelm-Röpke-Straße 4, 35039 Marburg', 'Stadtbücherei', 'Sehenswürdigkeit', 'Sehenswürdigkeit', 'Kalbstor', 'Landgraf-Philipp-Straße 3, 35037 Marburg', 'Sehenswürdigkeit', 'Garten des Gedenkens', '3', 'Restaurant', 'Restaurant', '4', 'Elisabethstraße 14, 35037 Marburg', 'Cappeler Str. 3, 35039 Marburg', 'Frisör', '3', 'Zwischenhausen 6, 35037 Marburg', 'Dreamhair', '1', 'Fitness Studio', 'Fitness Studio', 'Kino', '3', 'Bar', 'Markt 18, 35037 Marburg', 'Am Grün 58, 35037 Marburg', 'Reitgasse 5, 35037 Marburg', 'Lingelgasse 13 A, 35037 Marburg', 'Pfeffer und Salz', 'Curry Haus', 'Wehrdaer Weg 16A, 35037 Marburg', 'Tokyo Sushi', 'Arbeit', 'Schützenstraße 30, 35039 Marburg', '8', 'Healthy Hairclub', 'Dreamhair', 'Neue Kasseler Str. 7A, 35039 Marburg', 'AC 1888 Marburg e.V. - Kraftsportzentrum', '8', 'Arbeit', 'Capitol', 'Arbeit', 'Arbeit', '8', '8', 'Uni ', 'Uni ', 'Jägerstraße 1, 35037 Marburg', 'Hans-Meerwein-Straße 1, 35043 Marburg', 'Uni ', 'Fachbereich Pharmazie', 'Wilhelm-Röpke-Straße 4, 35039 Marburg', 'Stadtbücherei', 'Hermann-Bauer-Weg 2, 35043 Marburg', 'Sehenswürdigkeit', '1', '3', '35037 Marburg', '1', 'Lingelgasse 13 A, 35037 Marburg', 'Frankfurter Str. 19, 35037 Marburg', 'Curry Haus', '4', 'Elisabethstraße 14, 35037 Marburg', '2', 'Karin Winkler', 'Frisör', 'Frisör', 'Dreamhair', 'Lotus Yoga ', '2', 'Willy-Mock-Straße 2, 35037 Marburg', 'Kino', 'Kino', 'Steinweg 44, 35037 Marburg', '5', 'Bar', 'Bar', 'Shaky Shake', '8', '8', 'Arbeit', 'Tokyo Sushi', 'Arbeit', 'Karin Winkler', '8', 'Zwischenhausen 6, 35037 Marburg', 'Dreamhair', '8', 'AC 1888 Marburg e.V. - Kraftsportzentrum', 'Move Sportwelt', '8', 'Biegenstraße 8, 35037 Marburg', 'Sudhaus', 'Arbeit', 'Arbeit', 'Arbeit', 'Biegenstraße 10, 35037 Marburg', 'Barfüßertor 2, 35037 Marburg', 'Psychologisches Institut', 'Fachbereich Informatik & Mathe', 'Fachbereich Biologie', 'Wilhelm-Roser-Straße 2, 35037 Marburg', '7', 'Bibliothek', 'Sehenswürdigkeit', 'Botanischer Garten', 'Sehenswürdigkeit', 'Grimm Dich Pfad', '35037 Marburg', 'Sehenswürdigkeit', 'Restaurant', '4', 'Restaurant', '4', 'Tokyo Sushi', 'Chevy', 'Schützenstraße 30, 35039 Marburg', '3', 'Zwischenhausen 6, 35037 Marburg', 'Barfüßerstraße 29, 35037 Marburg', 'Fitness Studio', '2', 'Willy-Mock-Straße 2, 35037 Marburg', 'Biegenstraße 8, 35037 Marburg', 'Biegenstraße 8, 35037 Marburg', 'Steinweg 44, 35037 Marburg', 'Hinkelstein', 'Bar', 'Campus Bar', 'Shaky Shake', '8', 'Arbeit', '8', '8', '8', '8', 'Biegenstraße 35, 35037 Marburg', 'Healthy Hairclub', 'Barfüßerstraße 29, 35037 Marburg', '8', 'Arbeit', 'Move Sportwelt', 'Cineplex Marburg', 'Biegenstraße 8, 35037 Marburg', '8', '8', '8', 'Campus Bar', '4', '6', 'Jägerstraße 1, 35037 Marburg', 'Hans-Meerwein-Straße 1, 35043 Marburg', 'Karl-von-Frisch-Straße 1, 35043 Marburg', 'Uni ', 'Universitätsbibliothek', 'Bibliothek', 'Hermann-Bauer-Weg 2, 35043 Marburg', '2', 'Sehenswürdigkeit', 'Landgraf-Philipp-Straße 3, 35037 Marburg', 'Sehenswürdigkeit', '1', 'Restaurant', 'Restaurant', 'Curry Haus', 'Wehrdaer Weg 16A, 35037 Marburg', 'Tokyo Sushi', 'Cappeler Str. 3, 35039 Marburg', 'Karin Winkler', 'Biegenstraße 35, 35037 Marburg', 'Zwischenhausen 6, 35037 Marburg', 'Dreamhair', 'Fitness Studio', 'AC 1888 Marburg e.V. - Kraftsportzentrum', 'Move Sportwelt', 'Biegenstraße 8, 35037 Marburg', 'Capitol', '4', 'Bar', '3', 'Campus Bar', 'Arbeit', 'Pfeffer und Salz', '8', 'Wehrdaer Weg 16A, 35037 Marburg', 'Elisabethstraße 14, 35037 Marburg', 'Cappeler Str. 3, 35039 Marburg', '8', 'Arbeit', 'Zwischenhausen 6, 35037 Marburg', 'Arbeit', 'Neue Kasseler Str. 7A, 35039 Marburg', 'Bei St. Jost 8, 35039 Marburg', 'Arbeit', 'Cineplex Marburg', '8', 'Steinweg 44, 35037 Marburg', 'Hinkelstein', '8', 'Arbeit', '4', 'Barfüßertor 2, 35037 Marburg', 'Uni ', '9', 'Fachbereich Biologie', 'Uni ', '7', 'Bibliothek', 'Sehenswürdigkeit', 'Karl-von-Frisch-Str., 35032 Marburg', '1', 'Grimm Dich Pfad', '35037 Marburg', '1', '3', 'Frankfurter Str. 19, 35037 Marburg', 'Restaurant', 'Wehrdaer Weg 16A, 35037 Marburg', '2', '2', 'Frisör', '3', 'Healthy Hairclub', 'Barfüßerstraße 29, 35037 Marburg', '1', 'AC 1888 Marburg e.V. - Kraftsportzentrum', '3', 'Biegenstraße 8, 35037 Marburg', 'Kino', '4', 'Markt 18, 35037 Marburg', '3', 'Reitgasse 5, 35037 Marburg', '8', 'Frankfurter Str. 19, 35037 Marburg', '8', 'Arbeit', 'Arbeit', 'Cappeler Str. 3, 35039 Marburg', 'Schützenstraße 30, 35039 Marburg', 'Arbeit', 'Healthy Hairclub', 'Arbeit', 'Lotus Yoga ', 'AC 1888 Marburg e.V. - Kraftsportzentrum', 'Arbeit', 'Arbeit', 'Capitol', '8', '8', 'Am Grün 58, 35037 Marburg', 'Arbeit', '4', '6', '7', 'Uni ', 'Uni ', 'Fachbereich Pharmazie', '7', 'Ketzerbach 1, 35037 Marburg', 'Hermann-Bauer-Weg 2, 35043 Marburg', 'Sehenswürdigkeit', '1', '3', '3', 'Sehenswürdigkeit', 'Restaurant', 'Frankfurter Str. 19, 35037 Marburg', 'Restaurant', '4', 'Elisabethstraße 14, 35037 Marburg', 'Cappeler Str. 3, 35039 Marburg', 'Schützenstraße 30, 35039 Marburg', 'Biegenstraße 35, 35037 Marburg', 'Frisör', 'Dreamhair', '1', '2', '3', 'Biegenstraße 8, 35037 Marburg', 'Kino', 'Sudhaus', 'Markt 18, 35037 Marburg', 'Havanna', 'Campus Bar', 'Shaky Shake', 'Arbeit', 'Curry Haus', 'Arbeit', 'Tokyo Sushi', '8', '8', 'Raby´s Barbershop', 'Arbeit', 'Barfüßerstraße 29, 35037 Marburg', 'Lotus Yoga ', 'Bei St. Jost 8, 35039 Marburg', 'Move Sportwelt', 'Biegenstraße 8, 35037 Marburg', 'Capitol', 'Steinweg 44, 35037 Marburg', 'Arbeit', 'Arbeit', 'Reitgasse 5, 35037 Marburg', '4', '6', 'Jägerstraße 1, 35037 Marburg', 'Uni ', 'Karl-von-Frisch-Straße 1, 35043 Marburg', 'Uni ', 'Universitätsbibliothek', 'Bibliothek', '1', 'Karl-von-Frisch-Str., 35032 Marburg', 'Sybelstraße 17, 35037 Marburg', 'Sehenswürdigkeit', 'Landgrafenschloss', 'Garten des Gedenkens', '3', 'Pfeffer und Salz', 'Curry Haus', 'Wehrdaer Weg 16A, 35037 Marburg', '2', '2', 'Frisör', 'Frisör', 'Zwischenhausen 6, 35037 Marburg', 'Dreamhair', 'Lotus Yoga ', 'AC 1888 Marburg e.V. - Kraftsportzentrum', '3', '4', 'Capitol', '4', 'Hinkelstein', '3', 'Campus Bar', 'Arbeit', 'Arbeit', '8', 'Molly Malone', '8', 'Chevy', 'Schützenstraße 30, 35039 Marburg', '8', 'Arbeit', 'Barfüßerstraße 29, 35037 Marburg', 'Neue Kasseler Str. 7A, 35039 Marburg', 'Arbeit', 'Arbeit', 'Biegenstraße 8, 35037 Marburg', 'Arbeit', 'Steinweg 44, 35037 Marburg', '8', 'Havanna', 'Reitgasse 5, 35037 Marburg', '4', '6', 'Uni ', 'Hans-Meerwein-Straße 1, 35043 Marburg', '4', '3', 'Wilhelm-Röpke-Straße 4, 35039 Marburg', '3', 'Sehenswürdigkeit', 'Karl-von-Frisch-Str., 35032 Marburg', 'Kalbstor', '3', '35037 Marburg', 'Garten des Gedenkens', '3', 'Restaurant', 'Curry Haus', '4', 'Elisabethstraße 14, 35037 Marburg', '2', 'Karin Winkler', 'Raby´s Barbershop', 'Healthy Hairclub', '1', 'Lotus Yoga ', '2', 'Willy-Mock-Straße 2, 35037 Marburg', 'Kino', 'Kino', 'Bar', '5', 'Am Grün 58, 35037 Marburg', 'Bar', 'Arbeit', '8', 'Ketzerbach 9, 35037 Marburg', 'Arbeit', 'Elisabethstraße 14, 35037 Marburg', 'Arbeit', 'Arbeit', 'Raby´s Barbershop', 'Healthy Hairclub', 'Arbeit', '8', 'AC 1888 Marburg e.V. - Kraftsportzentrum', 'Move Sportwelt', '8', 'Capitol', 'Sudhaus', 'Hinkelstein', 'Am Grün 58, 35037 Marburg', '8', 'Uni ', '6', 'Jägerstraße 1, 35037 Marburg', 'Fachbereich Informatik & Mathe', 'Karl-von-Frisch-Straße 1, 35043 Marburg', '3', 'Wilhelm-Röpke-Straße 4, 35039 Marburg', 'Bibliothek', '1', 'Karl-von-Frisch-Str., 35032 Marburg', 'Sehenswürdigkeit', 'Sehenswürdigkeit', '35037 Marburg', 'Universitätsstraße 13, 35037 Marburg', 'Lingelgasse 13 A, 35037 Marburg', 'Restaurant', '1', '4', 'Elisabethstraße 14, 35037 Marburg', 'Restaurant', 'Schützenstraße 30, 35039 Marburg', 'Biegenstraße 35, 35037 Marburg', 'Frisör', 'Barfüßerstraße 29, 35037 Marburg', 'Neue Kasseler Str. 7A, 35039 Marburg', '2', 'Willy-Mock-Straße 2, 35037 Marburg', '4', 'Capitol', 'Bar', 'Hinkelstein', 'Havanna', 'Bar', 'Shaky Shake', 'Arbeit', 'Curry Haus', '8', 'Tokyo Sushi', 'Chevy', 'Schützenstraße 30, 35039 Marburg', 'Biegenstraße 35, 35037 Marburg', '8', 'Dreamhair', 'Arbeit', 'AC 1888 Marburg e.V. - Kraftsportzentrum', 'Arbeit', '8', 'Arbeit', 'Sudhaus', '8', '8', '8', '4', 'Barfüßertor 2, 35037 Marburg', 'Psychologisches Institut', 'Fachbereich Informatik & Mathe', 'Uni ', 'Uni ', 'Bibliothek', 'Bibliothek', '1', '2', 'Sehenswürdigkeit', 'Landgraf-Philipp-Straße 3, 35037 Marburg', 'Landgrafenschloss', '1', 'Shaky Shake', 'Restaurant', 'Ketzerbach 9, 35037 Marburg', 'Bar', '2', '2', 'Schützenstraße 30, 35039 Marburg', 'Frisör', '2', 'Barfüßerstraße 29, 35037 Marburg', 'Lotus Yoga ', 'AC 1888 Marburg e.V. - Kraftsportzentrum', 'Fitness Studio', 'Biegenstraße 8, 35037 Marburg', '3', 'Bar', 'Bar', 'Am Grün 58, 35037 Marburg', '2', 'Arbeit', 'Frankfurter Str. 19, 35037 Marburg', 'Arbeit', '8', 'Tokyo Sushi', 'Cappeler Str. 3, 35039 Marburg', 'Arbeit', 'Arbeit', 'Healthy Hairclub', 'Arbeit', 'Lotus Yoga ', 'Arbeit', '8', '8', 'Arbeit', 'Steinweg 44, 35037 Marburg', '8', 'Arbeit', 'Campus Bar', 'Philips Universität', 'Barfüßertor 2, 35037 Marburg', 'Uni ', 'Uni ', 'Fachbereich Biologie', 'Fachbereich Pharmazie', '7', '3', 'Sehenswürdigkeit', 'Sehenswürdigkeit', 'Kalbstor', '3', 'Sehenswürdigkeit', 'Sehenswürdigkeit', 'Shaky Shake', '4', 'Curry Haus', 'Molly Malone', 'Elisabethstraße 14, 35037 Marburg', '2', '1', 'Biegenstraße 35, 35037 Marburg', 'Healthy Hairclub', 'Dreamhair', 'Neue Kasseler Str. 7A, 35039 Marburg', '2', 'Move Sportwelt', '4', 'Biegenstraße 8, 35037 Marburg', 'Bar', 'Bar', 'Havanna', 'Campus Bar', 'Lingelgasse 13 A, 35037 Marburg', '8', '8', 'Molly Malone', 'Arbeit', 'Cappeler Str. 3, 35039 Marburg', 'Arbeit', 'Arbeit', 'Arbeit', 'Arbeit', 'Neue Kasseler Str. 7A, 35039 Marburg', 'Arbeit', 'Move Sportwelt', 'Cineplex Marburg', '8', '8', 'Arbeit', 'Am Grün 58, 35037 Marburg', 'Arbeit', 'Philips Universität', 'Fachschaft Wirtschaftswissenschaften', 'Uni ', 'Fachbereich Informatik & Mathe', 'Fachbereich Biologie', 'Uni ', 'Wilhelm-Röpke-Straße 4, 35039 Marburg', 'Ketzerbach 1, 35037 Marburg', 'Spiegellustturm', 'Karl-von-Frisch-Str., 35032 Marburg', 'Sybelstraße 17, 35037 Marburg', 'Landgraf-Philipp-Straße 3, 35037 Marburg', 'Sehenswürdigkeit', 'Universitätsstraße 13, 35037 Marburg', '3', 'Pfeffer und Salz', 'Restaurant', 'Wehrdaer Weg 16A, 35037 Marburg', 'Tokyo Sushi', '2', 'Karin Winkler', 'Raby´s Barbershop', 'Zwischenhausen 6, 35037 Marburg', 'Barfüßerstraße 29, 35037 Marburg', 'Neue Kasseler Str. 7A, 35039 Marburg', 'AC 1888 Marburg e.V. - Kraftsportzentrum', 'Fitness Studio', 'Biegenstraße 8, 35037 Marburg', 'Kino', 'Sudhaus', 'Markt 18, 35037 Marburg', '3', 'Bar', 'Lingelgasse 13 A, 35037 Marburg', '8', 'Curry Haus', 'Arbeit', 'Elisabethstraße 14, 35037 Marburg', 'Arbeit', 'Schützenstraße 30, 35039 Marburg', 'Biegenstraße 35, 35037 Marburg', 'Zwischenhausen 6, 35037 Marburg', 'Arbeit', 'Arbeit', 'Bei St. Jost 8, 35039 Marburg', 'Arbeit', 'Biegenstraße 8, 35037 Marburg', 'Biegenstraße 8, 35037 Marburg', 'Steinweg 44, 35037 Marburg', 'Arbeit', 'Am Grün 58, 35037 Marburg', 'Reitgasse 5, 35037 Marburg', 'Uni ', 'Barfüßertor 2, 35037 Marburg', 'Psychologisches Institut', 'Fachbereich Informatik & Mathe', 'Uni ', 'Wilhelm-Roser-Straße 2, 35037 Marburg', 'Universitätsbibliothek', 'Bibliothek', '1', 'Karl-von-Frisch-Str., 35032 Marburg', 'Kalbstor', '3', 'Landgrafenschloss', 'Sehenswürdigkeit', 'Restaurant', 'Pfeffer und Salz', 'Curry Haus', '4', 'Elisabethstraße 14, 35037 Marburg', 'Restaurant', 'Schützenstraße 30, 35039 Marburg', '3', '2', '1', 'Lotus Yoga ', 'AC 1888 Marburg e.V. - Kraftsportzentrum', 'Willy-Mock-Straße 2, 35037 Marburg', 'Cineplex Marburg', 'Capitol', 'Sudhaus', 'Hinkelstein', '3', '2', '8', 'Arbeit', '8', 'Wehrdaer Weg 16A, 35037 Marburg', 'Arbeit', 'Arbeit', 'Arbeit', '8', 'Healthy Hairclub', '8', 'Lotus Yoga ', 'Arbeit', '8', 'Arbeit', 'Capitol', 'Arbeit', 'Markt 18, 35037 Marburg', 'Arbeit', 'Campus Bar', 'Philips Universität', 'Fachschaft Wirtschaftswissenschaften', '7', '9', 'Fachbereich Biologie', 'Wilhelm-Roser-Straße 2, 35037 Marburg', 'Universitätsbibliothek', 'Bibliothek', 'Sehenswürdigkeit', '2', 'Kalbstor', 'Sehenswürdigkeit', '3', 'Universitätsstraße 13, 35037 Marburg', 'Lingelgasse 13 A, 35037 Marburg', '4', 'Curry Haus', 'Wehrdaer Weg 16A, 35037 Marburg', 'Elisabethstraße 14, 35037 Marburg', 'Cappeler Str. 3, 35039 Marburg', 'Karin Winkler', 'Frisör', '2', 'Barfüßerstraße 29, 35037 Marburg', 'Lotus Yoga ', 'AC 1888 Marburg e.V. - Kraftsportzentrum', 'Move Sportwelt', 'Biegenstraße 8, 35037 Marburg', 'Kino', 'Bar', 'Bar', 'Am Grün 58, 35037 Marburg', 'Campus Bar', '8', '8', 'Arbeit', 'Molly Malone', 'Arbeit', 'Cappeler Str. 3, 35039 Marburg', 'Arbeit', 'Raby´s Barbershop', '8', 'Arbeit', 'Lotus Yoga ', 'AC 1888 Marburg e.V. - Kraftsportzentrum', 'Willy-Mock-Straße 2, 35037 Marburg', 'Cineplex Marburg', 'Arbeit', '8', '8', '8', 'Reitgasse 5, 35037 Marburg', 'Philips Universität', '6', 'Psychologisches Institut', 'Hans-Meerwein-Straße 1, 35043 Marburg', 'Karl-von-Frisch-Straße 1, 35043 Marburg', '3', 'Wilhelm-Röpke-Straße 4, 35039 Marburg', '3', 'Hermann-Bauer-Weg 2, 35043 Marburg', 'Sehenswürdigkeit', 'Kalbstor', 'Grimm Dich Pfad', '35037 Marburg', 'Sehenswürdigkeit', 'Lingelgasse 13 A, 35037 Marburg', 'Pfeffer und Salz', 'Curry Haus', 'Wehrdaer Weg 16A, 35037 Marburg', 'Elisabethstraße 14, 35037 Marburg', '2', 'Schützenstraße 30, 35039 Marburg', 'Biegenstraße 35, 35037 Marburg', 'Healthy Hairclub', 'Frisör', '1', 'Fitness Studio', 'Willy-Mock-Straße 2, 35037 Marburg', '4', 'Kino', 'Sudhaus', 'Markt 18, 35037 Marburg', 'Am Grün 58, 35037 Marburg', '2', '8', 'Arbeit', '8', 'Arbeit', 'Tokyo Sushi', 'Arbeit', '8', 'Biegenstraße 35, 35037 Marburg', '8', '8', 'Lotus Yoga ', 'Bei St. Jost 8, 35039 Marburg', 'Move Sportwelt', 'Arbeit', 'Capitol', '8', 'Arbeit', 'Arbeit', 'Campus Bar', 'Philips Universität', '6', 'Jägerstraße 1, 35037 Marburg', '9', 'Uni ', 'Fachbereich Pharmazie', 'Wilhelm-Röpke-Straße 4, 35039 Marburg', 'Ketzerbach 1, 35037 Marburg', 'Hermann-Bauer-Weg 2, 35043 Marburg', '2', 'Sehenswürdigkeit', '3', 'Landgrafenschloss', 'Universitätsstraße 13, 35037 Marburg']\n",
      "r\n",
      "24\n"
     ]
    }
   ],
   "source": [
    "#Test für Zufallsauswahl\n",
    "import random\n",
    "\n",
    "Test1 = [] \n",
    "Zufall1 = []\n",
    "Arbeit1 = []\n",
    "Try1 = []\n",
    "counterTag = 0 \n",
    "\n",
    "with open (\"DB.csv\",\"r\") as file:\n",
    "    while counterTag < 24:\n",
    "        for line in file: \n",
    "            data = line.strip().split(\";\")\n",
    "            if data[2] == \"Zeiteinheiten\":\n",
    "                continue\n",
    "            Arbeit1.append(data)\n",
    "            Test1 = [Arbeit1]\n",
    "          # print(Arbeit1)\n",
    "        for line in Arbeit1:\n",
    "          # line = line.strip().split(\";\")\n",
    "            z = random.randint(0,len(line)-1)\n",
    "            Zufall1.append(line[z])\n",
    "        counterTag = counterTag + int(data[2])\n",
    "#rint(len(Arbeit))\n",
    "print(Arbeit1[3])\n",
    "print(Arbeit1[3][2])\n",
    "print(Zufall1)\n",
    "print(Zufall1[2][2])\n",
    "print(counterTag)"
   ]
  },
  {
   "cell_type": "code",
   "execution_count": null,
   "metadata": {},
   "outputs": [],
   "source": []
  },
  {
   "cell_type": "code",
   "execution_count": null,
   "metadata": {
    "collapsed": true
   },
   "outputs": [],
   "source": []
  }
 ],
 "metadata": {
  "kernelspec": {
   "display_name": "Python 3",
   "language": "python",
   "name": "python3"
  },
  "language_info": {
   "codemirror_mode": {
    "name": "ipython",
    "version": 3
   },
   "file_extension": ".py",
   "mimetype": "text/x-python",
   "name": "python",
   "nbconvert_exporter": "python",
   "pygments_lexer": "ipython3",
   "version": "3.6.3"
  }
 },
 "nbformat": 4,
 "nbformat_minor": 2
}
